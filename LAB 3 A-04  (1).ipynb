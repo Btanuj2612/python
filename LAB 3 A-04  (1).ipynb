{
 "cells": [
  {
   "cell_type": "markdown",
   "id": "b5ad3f09-b0fd-4130-9f80-94281a35fcac",
   "metadata": {},
   "source": [
    "DICTIONARY"
   ]
  },
  {
   "cell_type": "code",
   "execution_count": 31,
   "id": "f2b5ed85-67e4-42d4-a1ee-7fd8e61ef985",
   "metadata": {},
   "outputs": [
    {
     "name": "stdout",
     "output_type": "stream",
     "text": [
      "icecream\n",
      "{1: 'hii', 'name': 'tanuj', 1.5: ('yes', 'very much'), 9: [3, 6, 9, 5]}\n",
      "('yes', 'very much')\n",
      "{1: 'hii', 'name': 'kartik', 1.5: ('yes', 'very much'), 9: [3, 6, 9, 5]}\n",
      "{1: 'hii', 'name': 'kartik', 1.5: ('yes', 'very much'), 9: [3, 6, 9, 5], '5': 'pune'}\n",
      "kartik\n",
      "{1: 'hii', 'name': 'kartik', 1.5: ('yes', 'very much'), 9: [3, 6, 9, 5], '5': 'pune', '6': 'mumbai'}\n",
      "dict_keys([1, 'name', 1.5, 9, '5', '6'])\n",
      "{'python': 100, 'cpp': 100}\n",
      "{1: 'python', 2: 'php', 3: 'javascript', 4: 'cpp', 5: 'c'}\n",
      "True\n",
      "False\n"
     ]
    }
   ],
   "source": [
    "dict={\"1\": \"icecream\", '2': '100', '3':'vanilla'}\n",
    "print(dict['1'])\n",
    "dict2={1: \"hii\",\"name\":\"tanuj\",1.5:(\"yes\",\"very much\"),9:[3,6,9,5]}\n",
    "print(dict2)\n",
    "print(dict2[1.5])\n",
    "dict2['name']='kartik'\n",
    "print(dict2)\n",
    "dict2['5']='pune'\n",
    "print(dict2)\n",
    "dict2['6']='mumbai'\n",
    "print(dict2['name'])\n",
    "dict3=dict2.copy()\n",
    "print(dict3)\n",
    "keys=dict2.keys()\n",
    "print(keys)\n",
    "seq=('python','cpp')\n",
    "dict4=(dict3.fromkeys(seq,100))\n",
    "print(dict4)\n",
    "dict5={1:'python',2:'php',3:'javascript'}\n",
    "dict6={4:'cpp',5:'c'}\n",
    "dict5.update(dict6)\n",
    "print(dict5)\n",
    "dict7={1:1,2:4,3:9,4:5,5:25}\n",
    "print(1 in dict7)\n",
    "print(2 not in dict7)\n",
    "\n",
    "\n",
    "\n"
   ]
  },
  {
   "cell_type": "code",
   "execution_count": null,
   "id": "ac0547ab-65b2-410b-9bd1-56198ff23052",
   "metadata": {},
   "outputs": [],
   "source": []
  },
  {
   "cell_type": "code",
   "execution_count": null,
   "id": "2e2b6b56-24cf-4dd5-bbc5-a6e88b1e4a34",
   "metadata": {},
   "outputs": [],
   "source": []
  }
 ],
 "metadata": {
  "kernelspec": {
   "display_name": "Python 3 (ipykernel)",
   "language": "python",
   "name": "python3"
  },
  "language_info": {
   "codemirror_mode": {
    "name": "ipython",
    "version": 3
   },
   "file_extension": ".py",
   "mimetype": "text/x-python",
   "name": "python",
   "nbconvert_exporter": "python",
   "pygments_lexer": "ipython3",
   "version": "3.12.4"
  }
 },
 "nbformat": 4,
 "nbformat_minor": 5
}
