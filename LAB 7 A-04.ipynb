{
 "cells": [
  {
   "cell_type": "code",
   "execution_count": 1,
   "id": "bad516c6-a83f-4997-a43b-4d6a5026c12b",
   "metadata": {},
   "outputs": [
    {
     "name": "stdout",
     "output_type": "stream",
     "text": [
      "2.1.0\n"
     ]
    }
   ],
   "source": [
    "#write a python code to check to check th version of numpy\n",
    "import numpy as np\n",
    "print(np.__version__)"
   ]
  },
  {
   "cell_type": "code",
   "execution_count": 5,
   "id": "767027fd-3d30-4af6-9e8a-3214c3ab3b29",
   "metadata": {},
   "outputs": [
    {
     "name": "stdout",
     "output_type": "stream",
     "text": [
      "[1 0 0 0]\n",
      "True\n",
      "[0 0 0 0]\n",
      "False\n"
     ]
    }
   ],
   "source": [
    "#WRITE PYTHON PROGRAM TO TEST IF ANY OF ELEMENT OF A GIVEN ARRAY ARE NON ZERO\n",
    "import numpy as np\n",
    "x=np.array([1,0,0,0])\n",
    "print(np.array(x))\n",
    "print(np.any(x))\n",
    "\n",
    "x=np.array([0,0,0,0])\n",
    "print(np.array(x))\n",
    "print(np.any(x))"
   ]
  },
  {
   "cell_type": "code",
   "execution_count": 7,
   "id": "5c65930e-7682-4063-b7be-311d8eb04bb7",
   "metadata": {},
   "outputs": [
    {
     "name": "stdout",
     "output_type": "stream",
     "text": [
      "[ 1.  0. nan inf]\n",
      "test a give element wse for finitness:\n",
      "[ True  True False False]\n"
     ]
    }
   ],
   "source": [
    "#write python program to test a given array element wise for finiteness (not infinite or not number)\n",
    "import numpy as np\n",
    "x=np.array ([1,0,np.nan,np.inf])    #nan is not a number\n",
    "print(x)                            #inf is infinite\n",
    "print(\"test a give element wse for finitness:\")\n",
    "print(np.isfinite(x))\n"
   ]
  },
  {
   "cell_type": "code",
   "execution_count": 10,
   "id": "b7cc0c41-810d-4641-b00a-0bb1e25bd570",
   "metadata": {},
   "outputs": [
    {
     "name": "stdout",
     "output_type": "stream",
     "text": [
      "[False False False  True False False False False]\n",
      "[False False False False  True False False False]\n"
     ]
    }
   ],
   "source": [
    "#write a python program to test element wise positive or negative infinity\n",
    "import numpy as mnp\n",
    "x=mnp.array([1,0,-2,mnp.inf,-mnp.inf,3.4,6,7])\n",
    "result_pos_inf=mnp.isposinf(x)\n",
    "result_neg_inf=np.isneginf(x)\n",
    "print(result_pos_inf)\n",
    "print(result_neg_inf)"
   ]
  },
  {
   "cell_type": "code",
   "execution_count": 13,
   "id": "1bd8f2af-a143-4f71-abf7-121533ccc741",
   "metadata": {},
   "outputs": [
    {
     "name": "stdout",
     "output_type": "stream",
     "text": [
      "[30 31 32 33 34 35 36 37 38 39 40 41 42 43 44 45 46 47 48 49 50 51 52 53\n",
      " 54 55 56 57 58 59 60 61 62 63 64 65 66 67 68 69 70]\n"
     ]
    }
   ],
   "source": [
    "# write a python to create an array of integers from 30 to 70\n",
    "import numpy as pd\n",
    "x=pd.arange(30,71)\n",
    "print(x)"
   ]
  },
  {
   "cell_type": "code",
   "execution_count": 15,
   "id": "282a8331-701c-448c-aee9-a8ecef7fee23",
   "metadata": {},
   "outputs": [
    {
     "name": "stdout",
     "output_type": "stream",
     "text": [
      "[30 32 34 36 38 40 42 44 46 48 50 52 54 56 58 60 62 64 66 68 70]\n"
     ]
    }
   ],
   "source": [
    "#WRITE A PYTHON PROGRAM TO CREATE ARRAY OF ALL EVEN INTEGER FROM 30 TO 70\n",
    "import numpy as pd\n",
    "x= pd.arange(30,71,2)\n",
    "print(x)"
   ]
  },
  {
   "cell_type": "code",
   "execution_count": 16,
   "id": "a3f36406-792e-4c16-b196-469847eb0e60",
   "metadata": {},
   "outputs": [
    {
     "name": "stdout",
     "output_type": "stream",
     "text": [
      "[[1. 0. 0.]\n",
      " [0. 1. 0.]\n",
      " [0. 0. 1.]]\n"
     ]
    }
   ],
   "source": [
    "# wirte a python code to create 3x3 identity \n",
    "import numpy as pd\n",
    "arr_2d=pd.identity(3)\n",
    "print(arr_2d)"
   ]
  },
  {
   "cell_type": "code",
   "execution_count": 21,
   "id": "a83d62bb-c4f7-4fa3-a9a6-70c1e6405b1e",
   "metadata": {},
   "outputs": [
    {
     "name": "stdout",
     "output_type": "stream",
     "text": [
      "[[ 1  0  0  0  0  0  0  0  0  0  0  0  0  0  0  0]\n",
      " [ 0  2  0  0  0  0  0  0  0  0  0  0  0  0  0  0]\n",
      " [ 0  0  3  0  0  0  0  0  0  0  0  0  0  0  0  0]\n",
      " [ 0  0  0  4  0  0  0  0  0  0  0  0  0  0  0  0]\n",
      " [ 0  0  0  0  5  0  0  0  0  0  0  0  0  0  0  0]\n",
      " [ 0  0  0  0  0  7  0  0  0  0  0  0  0  0  0  0]\n",
      " [ 0  0  0  0  0  0  8  0  0  0  0  0  0  0  0  0]\n",
      " [ 0  0  0  0  0  0  0  4  0  0  0  0  0  0  0  0]\n",
      " [ 0  0  0  0  0  0  0  0  5  0  0  0  0  0  0  0]\n",
      " [ 0  0  0  0  0  0  0  0  0  6  0  0  0  0  0  0]\n",
      " [ 0  0  0  0  0  0  0  0  0  0  9  0  0  0  0  0]\n",
      " [ 0  0  0  0  0  0  0  0  0  0  0 34  0  0  0  0]\n",
      " [ 0  0  0  0  0  0  0  0  0  0  0  0  5  0  0  0]\n",
      " [ 0  0  0  0  0  0  0  0  0  0  0  0  0  6  0  0]\n",
      " [ 0  0  0  0  0  0  0  0  0  0  0  0  0  0  7  0]\n",
      " [ 0  0  0  0  0  0  0  0  0  0  0  0  0  0  0  8]]\n"
     ]
    }
   ],
   "source": [
    "#write a python to create a 5x5 zero matrix with element on the main diagonal equal to 1,2,3,4,5\n",
    "import numpy as pd\n",
    "arr_2d=pd.diag([1,2,3,4,5,7,8,4,5,6,9,34,5,6,7,8])\n",
    "print(arr_2d)"
   ]
  },
  {
   "cell_type": "code",
   "execution_count": 29,
   "id": "e355d1ce-1b16-4865-a01b-eefae2de21af",
   "metadata": {},
   "outputs": [
    {
     "name": "stdout",
     "output_type": "stream",
     "text": [
      "[[3 1]\n",
      " [5 3]]\n",
      "[[3 1]\n",
      " [5 3]]\n"
     ]
    }
   ],
   "source": [
    "#write a python to generate matrix product of 2 arrays\n",
    "import numpy as np\n",
    "x=[[1,0],[1,1]]\n",
    "y=[[3,1],[2,2]]\n",
    "print(np.dot(x,y))\n",
    "#or\n",
    "print(np.matmul(x,y))\n"
   ]
  },
  {
   "cell_type": "code",
   "execution_count": 61,
   "id": "f6cfecaf-6f23-4182-b97e-ee80327b8e18",
   "metadata": {},
   "outputs": [
    {
     "name": "stdout",
     "output_type": "stream",
     "text": [
      "matrix addition\n",
      "[ 33  35 264  75 282  21  24]\n",
      "matrix subtraction\n",
      "[ -13  -13 -240  -49 -252   11   10]\n"
     ]
    }
   ],
   "source": [
    "#Write a python program to generate  of matrix addition of 2 array \n",
    "import numpy as np\n",
    "arr1=np.array([10,11,12,13,15,16,17])\n",
    "arr2=np.array([23,24,252,62,267,5,7])\n",
    "print(\"matrix addition\")\n",
    "newadd=np.add(arr1,arr2)\n",
    "print(newadd)\n",
    "print('matrix subtraction')\n",
    "newsub=np.subtract(arr1,arr2)\n",
    "print(newsub)"
   ]
  },
  {
   "cell_type": "code",
   "execution_count": 45,
   "id": "a832ab51-4dd9-4da1-84f3-9633d25a773b",
   "metadata": {},
   "outputs": [
    {
     "name": "stdout",
     "output_type": "stream",
     "text": [
      "30.0\n"
     ]
    }
   ],
   "source": [
    "#write to find mean of 1d array\n",
    "import numpy as np\n",
    "arr1=np.array([(10+20+30+40+50)])\n",
    "me=np.mean(arr1)\n",
    "print(me)\n"
   ]
  },
  {
   "cell_type": "code",
   "execution_count": 59,
   "id": "61206448-8353-4f94-a893-42b0580912ed",
   "metadata": {},
   "outputs": [
    {
     "name": "stdout",
     "output_type": "stream",
     "text": [
      "original array\n",
      "[[10 30]\n",
      " [20 60]]\n",
      "mean of each column\n",
      "[15. 45.]\n",
      "mean of each row\n",
      "[20. 40.]\n"
     ]
    }
   ],
   "source": [
    "#find mean of row\n",
    "import numpy as np\n",
    "x=np.array ([[10,30],[20,60]])\n",
    "print('original array')\n",
    "print(x)\n",
    "print('mean of each column')\n",
    "print(x.mean(axis=0))\n",
    "print('mean of each row')\n",
    "print(x.mean(axis=1))"
   ]
  },
  {
   "cell_type": "code",
   "execution_count": 60,
   "id": "827d5254-6370-4ce5-93f8-8da1e91e1356",
   "metadata": {},
   "outputs": [
    {
     "name": "stdout",
     "output_type": "stream",
     "text": [
      "[0 1 2 3 4 5 6 7 8 9]\n"
     ]
    }
   ],
   "source": [
    "#to create 1D array in range 0 to9\n",
    "import numpy as pd\n",
    "x= pd.arange(0,10)\n",
    "print(x)"
   ]
  },
  {
   "cell_type": "code",
   "execution_count": 68,
   "id": "e953f47c-f1ce-4b15-ad96-069500803589",
   "metadata": {},
   "outputs": [
    {
     "ename": "ValueError",
     "evalue": "cannot reshape array of size 10 into shape (2,4)",
     "output_type": "error",
     "traceback": [
      "\u001b[0;31m---------------------------------------------------------------------------\u001b[0m",
      "\u001b[0;31mValueError\u001b[0m                                Traceback (most recent call last)",
      "Cell \u001b[0;32mIn[68], line 3\u001b[0m\n\u001b[1;32m      1\u001b[0m \u001b[38;5;66;03m# to convert 1d to 2d with 2 rows\u001b[39;00m\n\u001b[1;32m      2\u001b[0m arr1\u001b[38;5;241m=\u001b[39mnp\u001b[38;5;241m.\u001b[39marray([\u001b[38;5;241m1\u001b[39m,\u001b[38;5;241m2\u001b[39m,\u001b[38;5;241m3\u001b[39m,\u001b[38;5;241m4\u001b[39m,\u001b[38;5;241m5\u001b[39m,\u001b[38;5;241m6\u001b[39m,\u001b[38;5;241m7\u001b[39m,\u001b[38;5;241m8\u001b[39m])\n\u001b[0;32m----> 3\u001b[0m y\u001b[38;5;241m=\u001b[39m\u001b[43mx\u001b[49m\u001b[38;5;241;43m.\u001b[39;49m\u001b[43mreshape\u001b[49m\u001b[43m(\u001b[49m\u001b[38;5;241;43m2\u001b[39;49m\u001b[43m,\u001b[49m\u001b[38;5;241;43m4\u001b[39;49m\u001b[43m)\u001b[49m\n\u001b[1;32m      4\u001b[0m \u001b[38;5;28mprint\u001b[39m(arr1)\n\u001b[1;32m      5\u001b[0m \u001b[38;5;28mprint\u001b[39m(y)\n",
      "\u001b[0;31mValueError\u001b[0m: cannot reshape array of size 10 into shape (2,4)"
     ]
    }
   ],
   "source": [
    "# to convert 1d to 2d with 2 rows\n",
    "arr1=np.array([1,2,3,4,5,6,7,8])\n",
    "y=x.reshape(2,4)\n",
    "print(arr1)\n",
    "print(y)"
   ]
  },
  {
   "cell_type": "code",
   "execution_count": null,
   "id": "6ec00b02-1c52-4164-88d6-615e99aee47f",
   "metadata": {},
   "outputs": [],
   "source": []
  }
 ],
 "metadata": {
  "kernelspec": {
   "display_name": "Python 3 (ipykernel)",
   "language": "python",
   "name": "python3"
  },
  "language_info": {
   "codemirror_mode": {
    "name": "ipython",
    "version": 3
   },
   "file_extension": ".py",
   "mimetype": "text/x-python",
   "name": "python",
   "nbconvert_exporter": "python",
   "pygments_lexer": "ipython3",
   "version": "3.12.5"
  }
 },
 "nbformat": 4,
 "nbformat_minor": 5
}
