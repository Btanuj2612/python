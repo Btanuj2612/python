{
 "cells": [
  {
   "cell_type": "code",
   "execution_count": null,
   "id": "2a141811-4ddc-4762-8740-bc6ffeb25a73",
   "metadata": {},
   "outputs": [],
   "source": [
    "#write a program to print even numbers in a range 1 to 100 by using list comprehension\n"
   ]
  },
  {
   "cell_type": "code",
   "execution_count": 4,
   "id": "cbd351fc-2f05-477a-9550-628026382282",
   "metadata": {},
   "outputs": [
    {
     "name": "stdout",
     "output_type": "stream",
     "text": [
      "[2, 4, 6, 8, 10, 12, 14, 16, 18, 20, 22, 24, 26, 28, 30, 32, 34, 36, 38, 40, 42, 44, 46, 48, 50, 52, 54, 56, 58, 60, 62, 64, 66, 68, 70, 72, 74, 76, 78, 80, 82, 84, 86, 88, 90, 92, 94, 96, 98, 100]\n"
     ]
    }
   ],
   "source": [
    "num=[num for num in range (1,101) if num%2==0]\n",
    "print(num)"
   ]
  },
  {
   "cell_type": "code",
   "execution_count": 5,
   "id": "f22c8d06-3aa6-49b1-bdbc-982b6e6c434f",
   "metadata": {},
   "outputs": [
    {
     "name": "stdout",
     "output_type": "stream",
     "text": [
      "[3, 6, 9, 12, 15, 18, 21, 24, 27, 30, 33, 36, 39, 42, 45, 48, 51, 54, 57, 60, 63, 66, 69, 72, 75, 78, 81, 84, 87, 90, 93, 96, 99]\n"
     ]
    }
   ],
   "source": [
    "# write a program to print number divisible by 3 by using LIST COMPREHENSION\n",
    "num=[num for num in range (1,101) if num%3==0]\n",
    "print(num)"
   ]
  },
  {
   "cell_type": "code",
   "execution_count": 12,
   "id": "ed21d6c4-6ee0-409d-8a25-9b7d11b25c4b",
   "metadata": {},
   "outputs": [
    {
     "name": "stdout",
     "output_type": "stream",
     "text": [
      "[100, 99, 98, 97, 96, 95, 94, 93, 92, 91, 90, 89, 88, 87, 86, 85, 84, 83, 82, 81, 80, 79, 78, 77, 76, 75, 74, 73, 72, 71, 70, 69, 68, 67, 66, 65, 64, 63, 62, 61, 60, 59, 58, 57, 56, 55, 54, 53, 52, 51, 50, 49, 48, 47, 46, 45, 44, 43, 42, 41, 40, 39, 38, 37, 36, 35, 34, 33, 32, 31, 30, 29, 28, 27, 26, 25, 24, 23, 22, 21, 20, 19, 18, 17, 16, 15, 14, 13, 12, 11, 10, 9, 8, 7, 6, 5, 4, 3, 2, 1]\n"
     ]
    }
   ],
   "source": [
    "# write a program to print numbers from 100 to 1 by using list comprehension\n",
    "num=[num for num in range (100,0,-1)]\n",
    "print(num)"
   ]
  },
  {
   "cell_type": "code",
   "execution_count": 13,
   "id": "6d11acb7-02fb-44cf-a958-c9ba3ce663b4",
   "metadata": {},
   "outputs": [
    {
     "name": "stdout",
     "output_type": "stream",
     "text": [
      "[98, 91, 84, 77, 70, 63, 56, 49, 42, 35, 28, 21, 14, 7]\n"
     ]
    }
   ],
   "source": [
    "#write a program to print 100 to 1 number divisible by 7\n",
    "num=[num for num in range (100,0,-1) if num%7==0]\n",
    "print(num)"
   ]
  },
  {
   "cell_type": "code",
   "execution_count": 15,
   "id": "5e7b022f-c13b-473c-a485-8406b85c763e",
   "metadata": {},
   "outputs": [
    {
     "name": "stdout",
     "output_type": "stream",
     "text": [
      "[2, 4, 6, 8, 10]\n"
     ]
    }
   ],
   "source": [
    "#write a program to create list of sqaures of even numbers from 1 to 10\n",
    "num=[num for num in range(1,11) if num%2==0]\n",
    "print(num)"
   ]
  },
  {
   "cell_type": "code",
   "execution_count": 25,
   "id": "63e73bb5-f21a-4ccd-906b-e6b97cf4f248",
   "metadata": {},
   "outputs": [
    {
     "name": "stdout",
     "output_type": "stream",
     "text": [
      "{'a': 1, 'b': 2, 'c': 3, 'd': 4}\n"
     ]
    }
   ],
   "source": [
    "keys=['a','b','c','d']\n",
    "values=[1,2,3,4]\n",
    "my_dict={keys[i]:values[i] for i in range (len(keys))}\n",
    "print(my_dict)"
   ]
  },
  {
   "cell_type": "markdown",
   "id": "dbfc6969-afee-4080-96ec-1876065458ef",
   "metadata": {},
   "source": []
  },
  {
   "cell_type": "code",
   "execution_count": 30,
   "id": "99c0aff9-6332-4125-bac3-74b7b7faa3ea",
   "metadata": {},
   "outputs": [
    {
     "name": "stdout",
     "output_type": "stream",
     "text": [
      "{1: 1, 2: 4, 3: 9, 4: 16, 5: 25}\n"
     ]
    }
   ],
   "source": [
    "#write a program to create dictionary where are keys are numbers from 1 to 5 and the values are squares\n",
    "keys=[1,2,3,4,5]\n",
    "values=[1,4,9,16,25]\n",
    "my_dict={keys[i]:values[i] for i in range (len(keys))}\n",
    "print(my_dict)"
   ]
  },
  {
   "cell_type": "code",
   "execution_count": 35,
   "id": "80f629e3-a176-4941-bbca-f00d7943db12",
   "metadata": {},
   "outputs": [
    {
     "name": "stdout",
     "output_type": "stream",
     "text": [
      "{1: 1, 2: 4, 3: 9, 4: 16, 5: 25}\n"
     ]
    }
   ],
   "source": [
    "squares ={x :x**2 for x in range (1,6)}\n",
    "print(squares)\n"
   ]
  },
  {
   "cell_type": "code",
   "execution_count": 36,
   "id": "e2ff3b58-187f-4369-b858-58aba420aa88",
   "metadata": {},
   "outputs": [
    {
     "name": "stdout",
     "output_type": "stream",
     "text": [
      "{100: 10.0, 99: 9.9498743710662, 98: 9.899494936611665, 97: 9.848857801796104, 96: 9.797958971132712, 95: 9.746794344808963, 94: 9.695359714832659, 93: 9.643650760992955, 92: 9.591663046625438, 91: 9.539392014169456, 90: 9.486832980505138, 89: 9.433981132056603, 88: 9.38083151964686, 87: 9.327379053088816, 86: 9.273618495495704, 85: 9.219544457292887, 84: 9.16515138991168, 83: 9.1104335791443, 82: 9.055385138137417, 81: 9.0, 80: 8.94427190999916, 79: 8.888194417315589, 78: 8.831760866327848, 77: 8.774964387392123, 76: 8.717797887081348, 75: 8.660254037844387, 74: 8.602325267042627, 73: 8.54400374531753, 72: 8.48528137423857, 71: 8.426149773176359, 70: 8.366600265340756, 69: 8.306623862918075, 68: 8.246211251235321, 67: 8.18535277187245, 66: 8.12403840463596, 65: 8.06225774829855, 64: 8.0, 63: 7.937253933193772, 62: 7.874007874011811, 61: 7.810249675906654, 60: 7.745966692414834, 59: 7.681145747868608, 58: 7.615773105863909, 57: 7.54983443527075, 56: 7.483314773547883, 55: 7.416198487095663, 54: 7.3484692283495345, 53: 7.280109889280518, 52: 7.211102550927978, 51: 7.14142842854285, 50: 7.0710678118654755, 49: 7.0, 48: 6.928203230275509, 47: 6.855654600401044, 46: 6.782329983125268, 45: 6.708203932499369, 44: 6.6332495807108, 43: 6.557438524302, 42: 6.48074069840786, 41: 6.4031242374328485, 40: 6.324555320336759, 39: 6.244997998398398, 38: 6.164414002968976, 37: 6.082762530298219, 36: 6.0, 35: 5.916079783099616, 34: 5.830951894845301, 33: 5.744562646538029, 32: 5.656854249492381, 31: 5.5677643628300215, 30: 5.477225575051661, 29: 5.385164807134504, 28: 5.291502622129181, 27: 5.196152422706632, 26: 5.0990195135927845, 25: 5.0, 24: 4.898979485566356, 23: 4.795831523312719, 22: 4.69041575982343, 21: 4.58257569495584, 20: 4.47213595499958, 19: 4.358898943540674, 18: 4.242640687119285, 17: 4.123105625617661, 16: 4.0, 15: 3.872983346207417, 14: 3.7416573867739413, 13: 3.605551275463989, 12: 3.4641016151377544, 11: 3.3166247903554, 10: 3.1622776601683795, 9: 3.0, 8: 2.8284271247461903, 7: 2.6457513110645907, 6: 2.449489742783178, 5: 2.23606797749979, 4: 2.0, 3: 1.7320508075688772, 2: 1.4142135623730951, 1: 1.0}\n"
     ]
    }
   ],
   "source": [
    "# write a program to create dictionary of sqauare root of numbers from 100 to 1 by using dict comprehension\n",
    "sqrt={x:x**0.5 for x in range (100,0,-1)}\n",
    "print(sqrt)\n"
   ]
  },
  {
   "cell_type": "code",
   "execution_count": 37,
   "id": "1974a3bf-482a-4595-8c1d-602b3af3e4e7",
   "metadata": {},
   "outputs": [
    {
     "name": "stdout",
     "output_type": "stream",
     "text": [
      "{100: 10.0, 99: 9.9498743710662, 98: 9.899494936611665, 97: 9.848857801796104, 96: 9.797958971132712, 95: 9.746794344808963, 94: 9.695359714832659, 93: 9.643650760992955, 92: 9.591663046625438, 91: 9.539392014169456, 90: 9.486832980505138, 89: 9.433981132056603, 88: 9.38083151964686, 87: 9.327379053088816, 86: 9.273618495495704, 85: 9.219544457292887, 84: 9.16515138991168, 83: 9.1104335791443, 82: 9.055385138137417, 81: 9.0, 80: 8.94427190999916, 79: 8.888194417315589, 78: 8.831760866327848, 77: 8.774964387392123, 76: 8.717797887081348, 75: 8.660254037844387, 74: 8.602325267042627, 73: 8.54400374531753, 72: 8.48528137423857, 71: 8.426149773176359, 70: 8.366600265340756, 69: 8.306623862918075, 68: 8.246211251235321, 67: 8.18535277187245, 66: 8.12403840463596, 65: 8.06225774829855, 64: 8.0, 63: 7.937253933193772, 62: 7.874007874011811, 61: 7.810249675906654, 60: 7.745966692414834, 59: 7.681145747868608, 58: 7.615773105863909, 57: 7.54983443527075, 56: 7.483314773547883, 55: 7.416198487095663, 54: 7.3484692283495345, 53: 7.280109889280518, 52: 7.211102550927978, 51: 7.14142842854285, 50: 7.0710678118654755, 49: 7.0, 48: 6.928203230275509, 47: 6.855654600401044, 46: 6.782329983125268, 45: 6.708203932499369, 44: 6.6332495807108, 43: 6.557438524302, 42: 6.48074069840786, 41: 6.4031242374328485, 40: 6.324555320336759, 39: 6.244997998398398, 38: 6.164414002968976, 37: 6.082762530298219, 36: 6.0, 35: 5.916079783099616, 34: 5.830951894845301, 33: 5.744562646538029, 32: 5.656854249492381, 31: 5.5677643628300215, 30: 5.477225575051661, 29: 5.385164807134504, 28: 5.291502622129181, 27: 5.196152422706632, 26: 5.0990195135927845, 25: 5.0, 24: 4.898979485566356, 23: 4.795831523312719, 22: 4.69041575982343, 21: 4.58257569495584, 20: 4.47213595499958, 19: 4.358898943540674, 18: 4.242640687119285, 17: 4.123105625617661, 16: 4.0, 15: 3.872983346207417, 14: 3.7416573867739413, 13: 3.605551275463989, 12: 3.4641016151377544, 11: 3.3166247903554, 10: 3.1622776601683795, 9: 3.0, 8: 2.8284271247461903, 7: 2.6457513110645907, 6: 2.449489742783178, 5: 2.23606797749979, 4: 2.0, 3: 1.7320508075688772, 2: 1.4142135623730951, 1: 1.0}\n"
     ]
    }
   ],
   "source": [
    "import math\n",
    "sqrt={ num:math.sqrt(num) for num in range (100,0,-1)}\n",
    "print(sqrt)"
   ]
  },
  {
   "cell_type": "code",
   "execution_count": 55,
   "id": "6c3ff610-d453-4c71-a325-52e8ec5c3b16",
   "metadata": {},
   "outputs": [
    {
     "name": "stdout",
     "output_type": "stream",
     "text": [
      "{'jane': 'python', 'john': 'python'}\n"
     ]
    }
   ],
   "source": [
    "#create dict develeoper and define name of developers .write a program to filter out the dictionary to get  python\n",
    "developers={'jane':'python','jade':'javascript' ,'john':'python','doe':'javascript'}\n",
    "\n",
    "python_dev={key:developers[key] for key in developers if developers[key]=='python'}\n",
    "print(python_dev)"
   ]
  },
  {
   "cell_type": "code",
   "execution_count": null,
   "id": "bf1e817f-3cc2-431b-a2de-1c43de294248",
   "metadata": {},
   "outputs": [],
   "source": [
    "#create dictionary where keys are admin names and values are operating systems then print only admin who manages 'ubuntu os'\n"
   ]
  },
  {
   "cell_type": "code",
   "execution_count": 58,
   "id": "936be58a-9b04-4c03-ade2-7327727a0d6e",
   "metadata": {},
   "outputs": [
    {
     "name": "stdout",
     "output_type": "stream",
     "text": [
      "{'jane': 'ubuntu', 'charle': 'ubuntu', 'Eve': 'ubuntu'}\n"
     ]
    }
   ],
   "source": [
    "\n",
    "admins ={'jane':'ubuntu','bob':'windows' ,'charle':'ubuntu','david':'macos','Eve':'ubuntu'}\n",
    "\n",
    "ubuntu_dev={key:admins[key] for key in admins if admins[key]=='ubuntu'}\n",
    "print(ubuntu_dev)"
   ]
  },
  {
   "cell_type": "code",
   "execution_count": 59,
   "id": "94bbecd1-520d-41fc-a72b-c0e68619efe0",
   "metadata": {},
   "outputs": [
    {
     "name": "stdout",
     "output_type": "stream",
     "text": [
      "{'bob': 'windows'}\n"
     ]
    }
   ],
   "source": [
    "\n",
    "admins ={'jane':'ubuntu','bob':'windows' ,'charle':'ubuntu','david':'macos','Eve':'ubuntu'}\n",
    "\n",
    "windows_dev={key:admins[key] for key in admins if admins[key]=='windows'}\n",
    "print(windows_dev)"
   ]
  },
  {
   "cell_type": "code",
   "execution_count": null,
   "id": "84071810-10c9-44d2-85b5-ca03b6abe641",
   "metadata": {},
   "outputs": [],
   "source": []
  }
 ],
 "metadata": {
  "kernelspec": {
   "display_name": "Python 3 (ipykernel)",
   "language": "python",
   "name": "python3"
  },
  "language_info": {
   "codemirror_mode": {
    "name": "ipython",
    "version": 3
   },
   "file_extension": ".py",
   "mimetype": "text/x-python",
   "name": "python",
   "nbconvert_exporter": "python",
   "pygments_lexer": "ipython3",
   "version": "3.12.5"
  }
 },
 "nbformat": 4,
 "nbformat_minor": 5
}
