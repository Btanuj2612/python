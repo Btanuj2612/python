{
 "cells": [
  {
   "cell_type": "markdown",
   "id": "2620e70e-c180-4281-84a2-0f5866e84d1e",
   "metadata": {},
   "source": [
    "IF ELSE\n"
   ]
  },
  {
   "cell_type": "code",
   "execution_count": 6,
   "id": "0b8bd5b3-6e1b-49ad-9df9-3de80ae2c223",
   "metadata": {},
   "outputs": [
    {
     "name": "stdin",
     "output_type": "stream",
     "text": [
      "enter any number 5\n",
      "enter 2nd number 1\n"
     ]
    },
    {
     "name": "stdout",
     "output_type": "stream",
     "text": [
      "a is greater number\n"
     ]
    }
   ],
   "source": [
    "a=int(input(\"enter any number\"))\n",
    "b=int(input(\"enter 2nd number\"))\n",
    "if(a>b):\n",
    "    print(\"a is greater number\")\n",
    "else:\n",
    "    print(\"b is greater number\")\n",
    "    "
   ]
  },
  {
   "cell_type": "code",
   "execution_count": 9,
   "id": "01aa6ad6-469a-4fde-9b0e-e531b56a8a99",
   "metadata": {},
   "outputs": [
    {
     "name": "stdin",
     "output_type": "stream",
     "text": [
      "enter your age 5\n"
     ]
    },
    {
     "name": "stdout",
     "output_type": "stream",
     "text": [
      "not eligible to vote\n",
      "13 years to left to vote\n"
     ]
    }
   ],
   "source": [
    "#if else\n",
    "a=int(input(\"enter your age\"))\n",
    "if(a>18):\n",
    "      print(\"eligible to vote\")\n",
    "        \n",
    "else:\n",
    "      print(\"not eligible to vote\")\n",
    "left=18-a\n",
    "print(left,\"years to left to vote\")"
   ]
  },
  {
   "cell_type": "code",
   "execution_count": 2,
   "id": "bd59d96c-1eda-4869-ae57-ded74c896ee4",
   "metadata": {},
   "outputs": [
    {
     "name": "stdin",
     "output_type": "stream",
     "text": [
      "enter any number 45\n",
      "enter 2nd number 58\n",
      "enter 3rd number 963\n"
     ]
    },
    {
     "name": "stdout",
     "output_type": "stream",
     "text": [
      "963 is greater\n"
     ]
    }
   ],
   "source": [
    "a=int(input(\"enter any number\"))\n",
    "b=int(input(\"enter 2nd number\"))\n",
    "c=int(input(\"enter 3rd number\"))\n",
    "if(a>b and a>c):\n",
    "    print(a,\" is greater\")\n",
    "\n",
    "elif(b>a and b>c):\n",
    "    print(b,\"is greater\")\n",
    "\n",
    "else:\n",
    "    print(c,\"is greater\")\n",
    "    \n"
   ]
  },
  {
   "cell_type": "code",
   "execution_count": 1,
   "id": "b730aaf0-b370-4832-b171-f5270000d1e5",
   "metadata": {},
   "outputs": [
    {
     "name": "stdin",
     "output_type": "stream",
     "text": [
      "enter any number 456\n"
     ]
    },
    {
     "name": "stdout",
     "output_type": "stream",
     "text": [
      "range is infinity\n"
     ]
    }
   ],
   "source": [
    "#nested if \n",
    "a=int(input(\"enter any number\"))\n",
    "if(a<=10):\n",
    "    print(\"range between 0 to 10\")\n",
    "if(a>=10 and a<20):\n",
    "    print(\"range is between 10 to 20\")\n",
    "\n",
    "if(a>=20 and a<30):\n",
    "    print(\"range is btween 20 to 30\") \n",
    "\n",
    "if(a>30):\n",
    "    print(\"range is infinity\")\n",
    "    \n"
   ]
  },
  {
   "cell_type": "code",
   "execution_count": 8,
   "id": "1e776493-e7ca-4e6c-aa86-3ad3acdac1c8",
   "metadata": {},
   "outputs": [
    {
     "name": "stdin",
     "output_type": "stream",
     "text": [
      "enter the first number 45\n",
      "enter the second number 7\n",
      "enter thye third number 9\n"
     ]
    },
    {
     "name": "stdout",
     "output_type": "stream",
     "text": [
      "45 is largest\n"
     ]
    }
   ],
   "source": [
    "# nestedif else \n",
    "num1=int(input(\"enter the first number\"))\n",
    "num2=int(input(\"enter the second number\"))\n",
    "num3=int(input(\"enter thye third number\"))\n",
    "if(num1>num2):\n",
    "         if(num1>num3):\n",
    "             print(num1,\"is largest\")\n",
    "         else:\n",
    "             print(num3,\" is largest number\")\n",
    "elif(num2>num3):\n",
    "    print(num2,\"largest number\")\n",
    "else:\n",
    "    print(\"all number are equal\")\n",
    "\n",
    "\n",
    "\n",
    "    \n"
   ]
  },
  {
   "cell_type": "code",
   "execution_count": 10,
   "id": "2a276d5f-b113-460b-bc2a-23bfc7b24ee4",
   "metadata": {},
   "outputs": [
    {
     "name": "stdout",
     "output_type": "stream",
     "text": [
      "0\n",
      "1\n",
      "2\n",
      "3\n",
      "4\n",
      "5\n",
      "6\n",
      "7\n",
      "8\n",
      "9\n",
      "10\n"
     ]
    }
   ],
   "source": [
    "#while loop\n",
    "i=0\n",
    "while(i<=10):\n",
    "    print(i)\n",
    "    i=i+1"
   ]
  },
  {
   "cell_type": "code",
   "execution_count": 6,
   "id": "1703de6b-5fed-4b7f-8446-827155848b0a",
   "metadata": {},
   "outputs": [
    {
     "name": "stdin",
     "output_type": "stream",
     "text": [
      "enter year 2016\n"
     ]
    },
    {
     "name": "stdout",
     "output_type": "stream",
     "text": [
      "2016 is  a leap year\n"
     ]
    }
   ],
   "source": [
    "# write a program to find year is lear year or not \n",
    "a=int(input(\"enter year\"))\n",
    "if(a%4==0):\n",
    "    print(a,\"is  a leap year\")\n",
    "\n",
    "else:\n",
    "    print(a,\"not a leap year\")"
   ]
  },
  {
   "cell_type": "code",
   "execution_count": null,
   "id": "c9101413-084a-4195-bcc9-969465079468",
   "metadata": {},
   "outputs": [],
   "source": [
    "#write program that prompts the user to enter a number between 1 to 7 and then display corresponding day of the week\n",
    "num=int(input(\"enter number\")\n",
    "if(num==1):\n",
    "        print(\"monday\")\n",
    "if(num==2):\n",
    "        print(\"tuesday\")\n",
    "if(num==3):"
   ]
  },
  {
   "cell_type": "code",
   "execution_count": null,
   "id": "9698dfe8-00bf-4d76-a0b1-5062a9e81b21",
   "metadata": {},
   "outputs": [],
   "source": [
    "\n"
   ]
  }
 ],
 "metadata": {
  "kernelspec": {
   "display_name": "Python 3 (ipykernel)",
   "language": "python",
   "name": "python3"
  },
  "language_info": {
   "codemirror_mode": {
    "name": "ipython",
    "version": 3
   },
   "file_extension": ".py",
   "mimetype": "text/x-python",
   "name": "python",
   "nbconvert_exporter": "python",
   "pygments_lexer": "ipython3",
   "version": "3.12.4"
  }
 },
 "nbformat": 4,
 "nbformat_minor": 5
}
